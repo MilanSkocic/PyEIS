{
 "cells": [
  {
   "cell_type": "code",
   "execution_count": 1,
   "metadata": {
    "collapsed": false,
    "jupyter": {
     "outputs_hidden": false
    }
   },
   "outputs": [],
   "source": [
    "%matplotlib inline\n",
    "\n",
    "import numpy as np\n",
    "\n",
    "import sys \n",
    "# sys.path.append('C:/Users/Milan Skocic/PycharmProjects/PyEIS/')\n",
    "import pyeis\n",
    "\n",
    "import matplotlib.pyplot as plt\n",
    "\n",
    "from IPython.display import display, display_latex\n"
   ]
  },
  {
   "cell_type": "code",
   "execution_count": 2,
   "metadata": {
    "collapsed": false,
    "jupyter": {
     "outputs_hidden": false
    }
   },
   "outputs": [
    {
     "name": "stdout",
     "output_type": "stream",
     "text": [
      "0.5dev\n"
     ]
    }
   ],
   "source": [
    "print(pyeis.__version__)"
   ]
  },
  {
   "cell_type": "markdown",
   "metadata": {},
   "source": [
    "# Simple circuit"
   ]
  },
  {
   "cell_type": "code",
   "execution_count": 7,
   "metadata": {
    "collapsed": false,
    "jupyter": {
     "outputs_hidden": false
    }
   },
   "outputs": [
    {
     "data": {
      "text/latex": [
       "$\\displaystyle Dox \\left(i Tdox w\\right)^{- Ndox} \\tanh{\\left(\\left(i Tdox w\\right)^{Ndox} \\right)} + Rel + \\frac{1.0}{1.0 i Cdl w + \\frac{1.0}{Rct}}$"
      ],
      "text/plain": [
       "Dox*(I*Tdox*w)**(-Ndox)*tanh((I*Tdox*w)**Ndox) + Rel + 1.0/(1.0*I*Cdl*w + 1.0/Rct)"
      ]
     },
     "metadata": {},
     "output_type": "display_data"
    },
    {
     "name": "stdout",
     "output_type": "stream",
     "text": [
      "([Rct, Dox, Cdl, Tdox, Ndox, Rel], ['Rct', 'Dox', 'Cdl', 'Tdox', 'Ndox', 'Rel'])\n"
     ]
    }
   ],
   "source": [
    "circuit = 'Rel+Cdl/Rct+Dox'\n",
    "Zs = pyeis.cdp.get_symbolic_immittance(circuit, immittance_type='Z')\n",
    "display(Zs)\n",
    "\n",
    "print(pyeis.cdp._get_parameters(Zs))\n",
    "\n",
    "Zm = pyeis.cdp.get_numeric_immittance(Zs)"
   ]
  },
  {
   "cell_type": "code",
   "execution_count": 9,
   "metadata": {
    "collapsed": false,
    "jupyter": {
     "outputs_hidden": false
    }
   },
   "outputs": [
    {
     "name": "stderr",
     "output_type": "stream",
     "text": [
      "<lambdifygenerated-2>:2: RuntimeWarning: overflow encountered in tanh\n",
      "  return (p[1]*(1j*p[3]*w)**(-p[4])*tanh((1j*p[3]*w)**p[4]) + p[5] + 1.0/(1.0*1j*p[2]*w + 1.0/p[0]))\n"
     ]
    },
    {
     "data": {
      "text/plain": [
       "(20.55527484548747, -437.12470816187715)"
      ]
     },
     "execution_count": 9,
     "metadata": {},
     "output_type": "execute_result"
    },
    {
     "data": {
      "image/png": "[encoded data removed]",
      "text/plain": [
       "<Figure size 576x432 with 1 Axes>"
      ]
     },
     "metadata": {
      "needs_background": "light"
     },
     "output_type": "display_data"
    }
   ],
   "source": [
    "f = np.logspace(-3, 6, 100)\n",
    "w = 2*np.pi*f\n",
    "p = [100, 1000, 1e-6, 10, 0.5, 50]\n",
    "\n",
    "ReZ= np.real(Zm(p, w))\n",
    "ImZ = np.imag(Zm(p,w))\n",
    "\n",
    "fig = plt.figure()\n",
    "ax = fig.add_subplot(111)\n",
    "ax.grid()\n",
    "\n",
    "ax.set_aspect('equal')\n",
    "ax.plot(ReZ, ImZ, 'ko', mfc='w')\n",
    "ax.set_ylim(plt.gca().get_ylim()[::-1])"
   ]
  }
 ],
 "metadata": {
  "kernelspec": {
   "display_name": "Python 3",
   "language": "python",
   "name": "python3"
  },
  "language_info": {
   "codemirror_mode": {
    "name": "ipython",
    "version": 3
   },
   "file_extension": ".py",
   "mimetype": "text/x-python",
   "name": "python",
   "nbconvert_exporter": "python",
   "pygments_lexer": "ipython3",
   "version": "3.4.3"
  }
 },
 "nbformat": 4,
 "nbformat_minor": 4
}
